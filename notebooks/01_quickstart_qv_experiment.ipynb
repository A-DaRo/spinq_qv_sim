{
 "cells": [
  {
   "cell_type": "markdown",
   "id": "36ff09e5",
   "metadata": {},
   "source": [
    "## Overview\n",
    "This quickstart runs a small QV experiment using the baseline config and prints a concise aggregated table. It also inspects the saved HDF5 and displays a few generated plots."
   ]
  },
  {
   "cell_type": "markdown",
   "id": "bc831ac5",
   "metadata": {},
   "source": [
    "# Quickstart: Run a Quantum Volume (QV) Experiment End-to-End\n",
    "This notebook runs a minimal QV experiment using the project's pipeline and shows how to load the configuration, execute, and inspect results and plots."
   ]
  },
  {
   "cell_type": "code",
   "execution_count": null,
   "id": "88562781",
   "metadata": {},
   "outputs": [],
   "source": [
    "# 1) Setup: ensure src is on sys.path and imports work\n",
    "import sys, os\n",
    "from pathlib import Path\n",
    "root = Path.cwd()\n",
    "src_path = root / \"src\"\n",
    "if str(src_path) not in sys.path:\n",
    "    sys.path.insert(0, str(src_path))\n",
    "print(\"Using src path:\", src_path)\n",
    "from spinq_qv.config.schemas import Config\n",
    "from spinq_qv.experiments.run_qv import run_experiment\n",
    "from datetime import datetime"
   ]
  },
  {
   "cell_type": "code",
   "execution_count": null,
   "id": "ad838d65",
   "metadata": {},
   "outputs": [],
   "source": [
    "# 2) Load baseline configuration YAML\n",
    "baseline_yaml = root / \"examples\" / \"configs\" / \"baseline.yaml\"\n",
    "assert baseline_yaml.exists(), f\"Missing baseline config: {baseline_yaml}\"\n",
    "config = Config.from_yaml(baseline_yaml)\n",
    "# For a quick run, narrow widths and circuits\n",
    "config.simulation.widths = [2, 3]\n",
    "config.simulation.n_circuits = 5\n",
    "config.simulation.n_shots = 200\n",
    "config.simulation.random_seed = 12345\n",
    "config.metadata.update({\"notebook\": \"01_quickstart_qv_experiment\", \"timestamp\": datetime.now().isoformat()})\n",
    "config"
   ]
  },
  {
   "cell_type": "code",
   "execution_count": null,
   "id": "26a12be1",
   "metadata": {},
   "outputs": [],
   "source": [
    "# 3) Run experiment and return aggregated results\n",
    "output_dir = root / \"results\" / \"quickstart\"\n",
    "output_dir.mkdir(parents=True, exist_ok=True)\n",
    "aggregated = run_experiment(\n",
    "    config,\n",
    "    output_dir,\n",
    "    seed=config.simulation.random_seed,\n",
    "    parallel=False,\n",
    "    n_workers=1,\n",
    "    enable_profiling=False,\n",
    "    return_aggregated=True,\n",
    " )\n",
    "aggregated"
   ]
  },
  {
   "cell_type": "code",
   "execution_count": null,
   "id": "01f6cfe7",
   "metadata": {},
   "outputs": [],
   "source": [
    "# 4) Pretty-print a concise summary table\n",
    "import pandas as pd\n",
    "rows = []\n",
    "for w, data in aggregated.items():\n",
    "    rows.append({\n",
    "        \"width\": int(w),\n",
    "        \"mean_hop\": data.get(\"mean_hop\"),\n",
    "        \"ci_lower\": data.get(\"ci_lower\"),\n",
    "        \"ci_upper\": data.get(\"ci_upper\"),\n",
    "        \"std_hop\": data.get(\"std_hop\"),\n",
    "        \"pass_qv\": data.get(\"pass_qv\"),\n",
    "    })\n",
    "pd.DataFrame(rows).sort_values(\"width\").reset_index(drop=True)"
   ]
  },
  {
   "cell_type": "code",
   "execution_count": null,
   "id": "1554a950",
   "metadata": {},
   "outputs": [],
   "source": [
    "# 5) Inspect the saved HDF5 (aggregated group)\n",
    "import h5py\n",
    "from glob import glob\n",
    "# Find the run file from the output_dir\n",
    "h5_files = sorted(glob(str(output_dir / \"**/*.h5\"), recursive=True))\n",
    "assert h5_files, f\"No HDF5 files found under {output_dir}\"\n",
    "h5_path = h5_files[-1]\n",
    "print(\"Using HDF5:\", h5_path)\n",
    "with h5py.File(h5_path, 'r') as f:\n",
    "    print(\"Top-level groups:\", list(f.keys()))\n",
    "    assert 'aggregated' in f, \"Missing aggregated group\"\n",
    "    widths = list(f['aggregated'].keys())\n",
    "    print(\"Widths in aggregated:\", widths)\n",
    "    w0 = widths[0]\n",
    "    attrs = dict(f['aggregated'][w0].attrs)\n",
    "    attrs"
   ]
  },
  {
   "cell_type": "code",
   "execution_count": null,
   "id": "9e332654",
   "metadata": {},
   "outputs": [],
   "source": [
    "# 6) Display generated plots from the run directory\n",
    "from IPython.display import Image, display\n",
    "plots = sorted(glob(str(output_dir / \"**/plots_*/**/*.png\"), recursive=True))\n",
    "print(f\"Found {len(plots)} plot images\")\n",
    "for p in plots[:6]:  # show a few\n",
    "    display(Image(filename=p))"
   ]
  }
 ],
 "metadata": {
  "language_info": {
   "name": "python"
  }
 },
 "nbformat": 4,
 "nbformat_minor": 5
}
