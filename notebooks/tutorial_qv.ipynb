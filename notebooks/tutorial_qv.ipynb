{
 "cells": [
  {
   "cell_type": "markdown",
   "id": "91825df0",
   "metadata": {},
   "source": [
    "# Quantum Volume Circuit Generation Tutorial\n",
    "\n",
    "This notebook demonstrates IBM-style Quantum Volume (QV) circuit generation and ideal probability computation for the **spinq_qv** simulator.\n",
    "\n",
    "**Topics covered:**\n",
    "1. Generate QV circuits with random gates\n",
    "2. Compute ideal (noiseless) output probabilities  \n",
    "3. Identify heavy outputs (prob > median)\n",
    "4. Visualize probability distributions\n",
    "5. Verify heavy-output properties\n",
    "\n",
    "**Part of Iteration 2**: Circuit generator & ideal-output calculator"
   ]
  },
  {
   "cell_type": "markdown",
   "id": "283ce743",
   "metadata": {},
   "source": [
    "## Summary\n",
    "\n",
    "**Iteration 2 Complete!** ✓\n",
    "\n",
    "This notebook demonstrated:\n",
    "\n",
    "1. ✅ **Circuit Generation**: IBM-style QV circuits with random Haar unitaries\n",
    "2. ✅ **Ideal Simulation**: Exact probability calculation (noiseless)\n",
    "3. ✅ **Heavy Outputs**: Identified outputs with prob > median\n",
    "4. ✅ **Visualization**: Saved probability distribution plot\n",
    "5. ✅ **Determinism**: Same seed → identical results\n",
    "6. ✅ **Serialization**: JSON save/load with verification\n",
    "\n",
    "**Key Results**:\n",
    "- **Heavy output probability ≈ 0.89** (NOT 0.5!) - This is correct!\n",
    "- Heavy outputs defined as `prob > median` (strict inequality)\n",
    "- For random QV circuits, the distribution is skewed: a few outputs have very high probability\n",
    "- The top 2^(m-1) outputs (heavy set) capture most of the probability mass\n",
    "- Heavy output set size ≈ 2^(m-1) ✓ (exactly half the outputs)\n",
    "- Probabilities sum to 1.0 and are properly normalized ✓\n",
    "\n",
    "**Important:** Heavy prob > 0.5 does NOT indicate an error! It shows that random unitaries create highly non-uniform distributions, which is exactly what IBM's QV protocol expects.\n",
    "\n",
    "**Next Steps (Iteration 3)**:\n",
    "- Implement noise models (depolarizing, decoherence)\n",
    "- Add statevector simulator backend\n",
    "- Verify noisy sampling with Monte Carlo"
   ]
  },
  {
   "cell_type": "markdown",
   "id": "27c68386",
   "metadata": {},
   "source": [
    "## 1. Generate a Quantum Volume Circuit\n",
    "\n",
    "QV circuits are square (width = depth = m) with random single-qubit unitaries and random two-qubit entangling gates following the IBM QV protocol."
   ]
  },
  {
   "cell_type": "code",
   "execution_count": 2,
   "id": "db2b98c6",
   "metadata": {},
   "outputs": [
    {
     "name": "stdout",
     "output_type": "stream",
     "text": [
      "✓ Imports successful!\n",
      "NumPy version: 1.26.4\n"
     ]
    }
   ],
   "source": [
    "# Import required libraries\n",
    "import numpy as np\n",
    "import matplotlib.pyplot as plt\n",
    "from pathlib import Path\n",
    "\n",
    "# Import spinq_qv modules\n",
    "from spinq_qv.circuits import generate_qv_circuit, compute_ideal_probabilities\n",
    "from spinq_qv.io.formats import compute_heavy_outputs, int_to_bitstring\n",
    "\n",
    "print(\"✓ Imports successful!\")\n",
    "print(f\"NumPy version: {np.__version__}\")"
   ]
  },
  {
   "cell_type": "code",
   "execution_count": 3,
   "id": "8411022c",
   "metadata": {},
   "outputs": [
    {
     "name": "stdout",
     "output_type": "stream",
     "text": [
      "Circuit Parameters:\n",
      "  Width (qubits): 4\n",
      "  Depth (layers): 4\n",
      "  Total gates: 22\n",
      "  Single-qubit gates: 16\n",
      "  Two-qubit gates: 6\n",
      "  Random seed: 42\n"
     ]
    }
   ],
   "source": [
    "# Generate a QV circuit\n",
    "m = 4  # Number of qubits\n",
    "seed = 42  # For reproducibility\n",
    "\n",
    "circuit = generate_qv_circuit(m, seed=seed)\n",
    "\n",
    "print(f\"Circuit Parameters:\")\n",
    "print(f\"  Width (qubits): {circuit.width}\")\n",
    "print(f\"  Depth (layers): {circuit.depth}\")\n",
    "print(f\"  Total gates: {circuit.num_gates()}\")\n",
    "print(f\"  Single-qubit gates: {circuit.num_single_qubit_gates()}\")\n",
    "print(f\"  Two-qubit gates: {circuit.num_two_qubit_gates()}\")\n",
    "print(f\"  Random seed: {circuit.seed}\")"
   ]
  },
  {
   "cell_type": "markdown",
   "id": "352d346b",
   "metadata": {},
   "source": [
    "## 2. Compute Ideal Output Probabilities\n",
    "\n",
    "Calculate exact (noiseless) probabilities for all 2^m computational basis states."
   ]
  },
  {
   "cell_type": "code",
   "execution_count": 4,
   "id": "49eab12c",
   "metadata": {},
   "outputs": [
    {
     "name": "stdout",
     "output_type": "stream",
     "text": [
      "Probability Distribution:\n",
      "  Number of states: 16 (2^4)\n",
      "  Sum of probabilities: 1.0000000000\n",
      "  Min probability: 6.716631e-03\n",
      "  Max probability: 2.634157e-01\n",
      "  Mean: 6.250000e-02\n",
      "  Median: 4.082652e-02\n"
     ]
    }
   ],
   "source": [
    "# Compute ideal probabilities\n",
    "ideal_probs = compute_ideal_probabilities(circuit)\n",
    "\n",
    "print(f\"Probability Distribution:\")\n",
    "print(f\"  Number of states: {len(ideal_probs)} (2^{m})\")\n",
    "print(f\"  Sum of probabilities: {ideal_probs.sum():.10f}\")\n",
    "print(f\"  Min probability: {ideal_probs.min():.6e}\")\n",
    "print(f\"  Max probability: {ideal_probs.max():.6e}\")\n",
    "print(f\"  Mean: {ideal_probs.mean():.6e}\")\n",
    "print(f\"  Median: {np.median(ideal_probs):.6e}\")"
   ]
  },
  {
   "cell_type": "markdown",
   "id": "f03c6c3c",
   "metadata": {},
   "source": [
    "## 3. Identify Heavy Outputs\n",
    "\n",
    "Heavy outputs are those with probability > median(probs). By definition, approximately 2^(m-1) outputs should be heavy."
   ]
  },
  {
   "cell_type": "code",
   "execution_count": 5,
   "id": "99fe3016",
   "metadata": {},
   "outputs": [
    {
     "name": "stdout",
     "output_type": "stream",
     "text": [
      "Heavy Output Statistics:\n",
      "  Number of heavy outputs: 8\n",
      "  Expected (2^(m-1)): 8\n",
      "  Total probability of heavy outputs: 0.8330\n",
      "  Median probability: 4.082652e-02\n",
      "\n",
      "Top 5 Heavy Outputs:\n",
      "  |0110⟩  →  p = 0.263416\n",
      "  |0100⟩  →  p = 0.123880\n",
      "  |1111⟩  →  p = 0.115092\n",
      "  |0000⟩  →  p = 0.110790\n",
      "  |1110⟩  →  p = 0.064041\n"
     ]
    }
   ],
   "source": [
    "# Compute heavy outputs\n",
    "heavy_indices = compute_heavy_outputs(ideal_probs)\n",
    "heavy_prob_total = sum(ideal_probs[i] for i in heavy_indices)\n",
    "\n",
    "print(f\"Heavy Output Statistics:\")\n",
    "print(f\"  Number of heavy outputs: {len(heavy_indices)}\")\n",
    "print(f\"  Expected (2^(m-1)): {2**(m-1)}\")\n",
    "print(f\"  Total probability of heavy outputs: {heavy_prob_total:.4f}\")\n",
    "print(f\"  Median probability: {np.median(ideal_probs):.6e}\")\n",
    "\n",
    "# Show top 5 heavy outputs\n",
    "print(f\"\\nTop 5 Heavy Outputs:\")\n",
    "sorted_heavy = sorted(heavy_indices, key=lambda i: ideal_probs[i], reverse=True)\n",
    "for idx in sorted_heavy[:5]:\n",
    "    bitstring = int_to_bitstring(idx, m)\n",
    "    print(f\"  |{bitstring}⟩  →  p = {ideal_probs[idx]:.6f}\")"
   ]
  },
  {
   "cell_type": "markdown",
   "id": "20b2b1ed",
   "metadata": {},
   "source": [
    "## 4. Visualize Probability Distribution\n",
    "\n",
    "Create plots showing the output probability distribution with heavy outputs highlighted."
   ]
  },
  {
   "cell_type": "code",
   "execution_count": 6,
   "id": "1dabce86",
   "metadata": {},
   "outputs": [
    {
     "name": "stdout",
     "output_type": "stream",
     "text": [
      "✓ Figure saved to: c:\\Users\\20232788\\Desktop\\Year3\\IQT\\Group Project\\spinq_qv_sim\\notebooks\\plots\\ideal_prob_example.png\n"
     ]
    },
    {
     "data": {
      "image/png": "[encoded data removed]",
      "text/plain": [
       "<Figure size 1400x500 with 2 Axes>"
      ]
     },
     "metadata": {},
     "output_type": "display_data"
    }
   ],
   "source": [
    "# Create visualization\n",
    "fig, (ax1, ax2) = plt.subplots(1, 2, figsize=(14, 5))\n",
    "\n",
    "# Plot 1: Bar chart with heavy outputs highlighted\n",
    "indices = np.arange(2**m)\n",
    "colors = ['red' if i in heavy_indices else 'steelblue' for i in indices]\n",
    "median_val = np.median(ideal_probs)\n",
    "\n",
    "ax1.bar(indices, ideal_probs, color=colors, alpha=0.7, edgecolor='black', linewidth=0.5)\n",
    "ax1.axhline(median_val, color='green', linestyle='--', linewidth=2, \n",
    "            label=f'Median = {median_val:.5f}')\n",
    "ax1.set_xlabel('Output State Index', fontsize=12)\n",
    "ax1.set_ylabel('Probability', fontsize=12)\n",
    "ax1.set_title(f'QV Circuit Output Distribution (m={m}, seed={seed})', fontsize=14, fontweight='bold')\n",
    "ax1.legend(['Median', 'Heavy Outputs', 'Light Outputs'], fontsize=10)\n",
    "ax1.grid(True, alpha=0.3, axis='y')\n",
    "\n",
    "# Plot 2: Sorted probabilities\n",
    "sorted_probs = np.sort(ideal_probs)[::-1]\n",
    "heavy_count = len(heavy_indices)\n",
    "\n",
    "ax2.plot(sorted_probs, 'o-', markersize=5, linewidth=1.5, color='navy')\n",
    "ax2.axhline(median_val, color='green', linestyle='--', linewidth=2, label='Median')\n",
    "ax2.axvline(heavy_count, color='red', linestyle=':', linewidth=2.5, \n",
    "            label=f'Heavy outputs ({heavy_count})')\n",
    "ax2.set_xlabel('Rank (sorted by probability)', fontsize=12)\n",
    "ax2.set_ylabel('Probability', fontsize=12)\n",
    "ax2.set_title('Sorted Output Probabilities (Log Scale)', fontsize=14, fontweight='bold')\n",
    "ax2.legend(fontsize=10)\n",
    "ax2.grid(True, alpha=0.3)\n",
    "ax2.set_yscale('log')\n",
    "\n",
    "plt.tight_layout()\n",
    "\n",
    "# Save figure\n",
    "plots_dir = Path(\"plots\")\n",
    "plots_dir.mkdir(exist_ok=True)\n",
    "output_path = plots_dir / \"ideal_prob_example.png\"\n",
    "plt.savefig(output_path, dpi=150, bbox_inches='tight')\n",
    "\n",
    "print(f\"✓ Figure saved to: {output_path.absolute()}\")\n",
    "plt.show()"
   ]
  },
  {
   "cell_type": "markdown",
   "id": "d9897675",
   "metadata": {},
   "source": [
    "## 5. Test Determinism\n",
    "\n",
    "Verify that identical seeds produce identical circuits and probabilities."
   ]
  },
  {
   "cell_type": "code",
   "execution_count": 7,
   "id": "e124b4df",
   "metadata": {},
   "outputs": [
    {
     "name": "stdout",
     "output_type": "stream",
     "text": [
      "Determinism Check:\n",
      "  Circuits match: True ✓\n",
      "  Probabilities match: True ✓\n",
      "  Max probability difference: 0.00e+00\n"
     ]
    }
   ],
   "source": [
    "# Regenerate with same seed\n",
    "circuit_copy = generate_qv_circuit(m, seed=seed)\n",
    "probs_copy = compute_ideal_probabilities(circuit_copy)\n",
    "\n",
    "# Check equality\n",
    "circuits_match = (circuit.to_json() == circuit_copy.to_json())\n",
    "probs_match = np.allclose(ideal_probs, probs_copy, rtol=1e-15)\n",
    "max_diff = np.max(np.abs(ideal_probs - probs_copy))\n",
    "\n",
    "print(f\"Determinism Check:\")\n",
    "print(f\"  Circuits match: {circuits_match} ✓\" if circuits_match else f\"  Circuits match: {circuits_match} ✗\")\n",
    "print(f\"  Probabilities match: {probs_match} ✓\" if probs_match else f\"  Probabilities match: {probs_match} ✗\")\n",
    "print(f\"  Max probability difference: {max_diff:.2e}\")"
   ]
  },
  {
   "cell_type": "markdown",
   "id": "c52d1352",
   "metadata": {},
   "source": [
    "## 6. Circuit Serialization\n",
    "\n",
    "Demonstrate saving and loading circuits via JSON."
   ]
  },
  {
   "cell_type": "code",
   "execution_count": 8,
   "id": "afb0c6e2",
   "metadata": {},
   "outputs": [
    {
     "name": "stdout",
     "output_type": "stream",
     "text": [
      "Circuit JSON (first 400 chars):\n",
      "{\n",
      "  \"width\": 4,\n",
      "  \"depth\": 4,\n",
      "  \"seed\": 42,\n",
      "  \"gates\": [\n",
      "    {\n",
      "      \"type\": \"u3\",\n",
      "      \"qubits\": [\n",
      "        0\n",
      "      ],\n",
      "      \"params\": {\n",
      "        \"theta\": 2.150662627122637,\n",
      "        \"phi\": 2.757554564287996,\n",
      "        \"lambda\": 5.3947298351621535\n",
      "      },\n",
      "      \"layer\": 0\n",
      "    },\n",
      "    {\n",
      "      \"type\": \"u3\",\n",
      "      \"qubits\": [\n",
      "        1\n",
      "      ],\n",
      "      \"params\": {\n",
      "        \"theta\": 1.9765768903716876,\n",
      "    ...\n",
      "\n",
      "Total JSON length: 10,856 characters\n",
      "✓ Circuit saved to: c:\\Users\\20232788\\Desktop\\Year3\\IQT\\Group Project\\spinq_qv_sim\\notebooks\\circuit_m4_seed42.json\n",
      "\n",
      "Roundtrip Verification:\n",
      "  Loaded circuit width: 4\n",
      "  Loaded circuit gates: 22\n",
      "  Probabilities match: True ✓\n"
     ]
    }
   ],
   "source": [
    "# Serialize to JSON\n",
    "json_str = circuit.to_json()\n",
    "\n",
    "print(f\"Circuit JSON (first 400 chars):\")\n",
    "print(json_str[:400] + \"...\")\n",
    "print(f\"\\nTotal JSON length: {len(json_str):,} characters\")\n",
    "\n",
    "# Save to file\n",
    "json_path = Path(\"circuit_m4_seed42.json\")\n",
    "with open(json_path, \"w\") as f:\n",
    "    f.write(json_str)\n",
    "\n",
    "print(f\"✓ Circuit saved to: {json_path.absolute()}\")\n",
    "\n",
    "# Load back and verify\n",
    "from spinq_qv.io.formats import CircuitSpec\n",
    "loaded_circuit = CircuitSpec.from_json(json_str)\n",
    "\n",
    "loaded_probs = compute_ideal_probabilities(loaded_circuit)\n",
    "reload_match = np.allclose(ideal_probs, loaded_probs, rtol=1e-15)\n",
    "\n",
    "print(f\"\\nRoundtrip Verification:\")\n",
    "print(f\"  Loaded circuit width: {loaded_circuit.width}\")\n",
    "print(f\"  Loaded circuit gates: {len(loaded_circuit.gates)}\")\n",
    "print(f\"  Probabilities match: {reload_match} ✓\" if reload_match else f\"  Probabilities match: {reload_match} ✗\")"
   ]
  },
  {
   "cell_type": "markdown",
   "id": "25560175",
   "metadata": {},
   "source": [
    "## 7. Compare Multiple Circuits\n",
    "\n",
    "Generate several QV circuits to verify statistical properties."
   ]
  },
  {
   "cell_type": "code",
   "execution_count": 10,
   "id": "af8ad441",
   "metadata": {},
   "outputs": [
    {
     "name": "stdout",
     "output_type": "stream",
     "text": [
      "Comparison of QV Circuits:\n",
      "Seed     Heavy    HeavyProb    MaxProb      MinProb     \n",
      "------------------------------------------------------------\n",
      "42       8        0.8330       0.263416     6.72e-03    \n",
      "123      8        0.9590       0.400501     9.36e-04    \n",
      "456      8        0.8716       0.201310     6.76e-03    \n",
      "789      8        0.9410       0.298400     1.99e-03    \n",
      "1011     8        0.8408       0.224141     2.48e-03    \n",
      "\n",
      "✓ Average heavy output probability: 0.8891\n",
      "\n",
      "  Note: Heavy prob > 0.5 is CORRECT for skewed distributions!\n",
      "  Heavy outputs use strict inequality (prob > median), not (prob >= median).\n",
      "  Random QV circuits create skewed distributions where a few outputs\n",
      "  dominate the probability mass, so the 'heavy' set (top 2^(m-1) outputs)\n",
      "  can capture much more than 50% of the total probability.\n"
     ]
    }
   ],
   "source": [
    "# Generate multiple circuits with different seeds\n",
    "seeds = [42, 123, 456, 789, 1011]\n",
    "results = []\n",
    "\n",
    "for s in seeds:\n",
    "    circ = generate_qv_circuit(m, seed=s)\n",
    "    probs = compute_ideal_probabilities(circ)\n",
    "    heavy = compute_heavy_outputs(probs)\n",
    "    heavy_prob = sum(probs[i] for i in heavy)\n",
    "    \n",
    "    results.append({\n",
    "        'seed': s,\n",
    "        'n_heavy': len(heavy),\n",
    "        'heavy_prob': heavy_prob,\n",
    "        'max_prob': probs.max(),\n",
    "        'min_prob': probs.min(),\n",
    "    })\n",
    "\n",
    "# Display comparison table\n",
    "print(\"Comparison of QV Circuits:\")\n",
    "print(f\"{'Seed':<8} {'Heavy':<8} {'HeavyProb':<12} {'MaxProb':<12} {'MinProb':<12}\")\n",
    "print(\"-\" * 60)\n",
    "for r in results:\n",
    "    print(f\"{r['seed']:<8} {r['n_heavy']:<8} {r['heavy_prob']:<12.4f} \"\n",
    "          f\"{r['max_prob']:<12.6f} {r['min_prob']:<12.2e}\")\n",
    "\n",
    "avg_heavy_prob = np.mean([r['heavy_prob'] for r in results])\n",
    "print(f\"\\n✓ Average heavy output probability: {avg_heavy_prob:.4f}\")\n",
    "print(f\"\\n  Note: Heavy prob > 0.5 is CORRECT for skewed distributions!\")\n",
    "print(f\"  Heavy outputs use strict inequality (prob > median), not (prob >= median).\")\n",
    "print(f\"  Random QV circuits create skewed distributions where a few outputs\")\n",
    "print(f\"  dominate the probability mass, so the 'heavy' set (top 2^(m-1) outputs)\")\n",
    "print(f\"  can capture much more than 50% of the total probability.\")"
   ]
  }
 ],
 "metadata": {
  "kernelspec": {
   "display_name": "dbl1",
   "language": "python",
   "name": "python3"
  },
  "language_info": {
   "codemirror_mode": {
    "name": "ipython",
    "version": 3
   },
   "file_extension": ".py",
   "mimetype": "text/x-python",
   "name": "python",
   "nbconvert_exporter": "python",
   "pygments_lexer": "ipython3",
   "version": "3.11.11"
  }
 },
 "nbformat": 4,
 "nbformat_minor": 5
}
