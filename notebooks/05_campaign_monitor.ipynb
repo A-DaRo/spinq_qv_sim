{
 "cells": [
  {
   "cell_type": "markdown",
   "id": "71b080f9",
   "metadata": {},
   "source": [
    "# Campaign Monitor\n",
    "This notebook attaches to an existing campaign (state JSON + HDF5) and provides a simple refreshable view of progress, aggregated metrics, and last-updated timestamp."
   ]
  },
  {
   "cell_type": "code",
   "execution_count": 1,
   "id": "3a27f162",
   "metadata": {},
   "outputs": [
    {
     "data": {
      "application/vnd.jupyter.widget-view+json": {
       "model_id": "1d602fa840bb45d5b72402c6e5584e31",
       "version_major": 2,
       "version_minor": 0
      },
      "text/plain": [
       "VBox(children=(Text(value='', description='State JSON:', layout=Layout(width='80%')), Text(value='', descripti…"
      ]
     },
     "metadata": {},
     "output_type": "display_data"
    }
   ],
   "source": [
    "# Setup and path selection\n",
    "import sys, json, time\n",
    "from pathlib import Path\n",
    "import ipywidgets as widgets\n",
    "from IPython.display import display, clear_output\n",
    "import h5py, pandas as pd\n",
    "root = Path.cwd()\n",
    "src_path = root / \"src\"\n",
    "if str(src_path) not in sys.path:\n",
    "    sys.path.insert(0, str(src_path))\n",
    "state_path = widgets.Text(value='', description='State JSON:', layout=widgets.Layout(width='80%'))\n",
    "h5_path = widgets.Text(value='', description='Results H5:', layout=widgets.Layout(width='80%'))\n",
    "refresh_btn = widgets.Button(description='Refresh', button_style='info')\n",
    "auto_refresh = widgets.Checkbox(value=False, description='Auto refresh (2s)')\n",
    "progress = widgets.IntProgress(value=0, min=0, max=100, description='Progress:')\n",
    "out = widgets.Output()\n",
    "display(widgets.VBox([state_path, h5_path, widgets.HBox([refresh_btn, auto_refresh]), progress, out]))"
   ]
  },
  {
   "cell_type": "code",
   "execution_count": 2,
   "id": "c4169eb1",
   "metadata": {},
   "outputs": [
    {
     "data": {
      "text/plain": [
       "DirectionalLink(source=(Checkbox(value=False, description='Auto refresh (2s)'), 'value'), target=(Button(button_style='info', description='Refresh', style=ButtonStyle()), 'disabled'))"
      ]
     },
     "execution_count": 2,
     "metadata": {},
     "output_type": "execute_result"
    }
   ],
   "source": [
    "# Monitor functions\n",
    "def load_state(p: Path):\n",
    "    if not p or not p.exists():\n",
    "        return None\n",
    "    with open(p, 'r') as f:\n",
    "        return json.load(f)\n",
    "def aggregated_df(h5: Path):\n",
    "    rows = []\n",
    "    if not h5 or not h5.exists():\n",
    "        return pd.DataFrame(rows)\n",
    "    with h5py.File(h5, 'r') as f:\n",
    "        if 'aggregated' not in f:\n",
    "            return pd.DataFrame(rows)\n",
    "        for w in sorted(f['aggregated'].keys(), key=lambda x: int(x)):\n",
    "            attrs = dict(f['aggregated'][w].attrs)\n",
    "            rows.append({\n",
    "                'width': int(w),\n",
    "                **{k: attrs.get(k) for k in ['mean_hop','ci_lower','ci_upper','std_hop','pass_qv']}\n",
    "            })\n",
    "    return pd.DataFrame(rows)\n",
    "def refresh_view(_=None):\n",
    "    with out:\n",
    "        out.clear_output()\n",
    "        sp = Path(state_path.value)\n",
    "        hp = Path(h5_path.value)\n",
    "        st = load_state(sp)\n",
    "        if st:\n",
    "            print(f\"Campaign: {st.get('campaign_id')}\")\n",
    "            print(f\"Last update: {st.get('last_update')}\")\n",
    "            done = len(st.get('completed_widths', []))\n",
    "            failed = len(st.get('failed_widths', []))\n",
    "            inprog = st.get('in_progress_width')\n",
    "            total = done + len(st.get('results_file',''))  # fallback if widths unknown\n",
    "            print(f\"Completed: {done}; Failed: {failed}; In-progress: {inprog}\")\n",
    "            # Progress if widths known (derive from H5 too)\n",
    "        df = aggregated_df(hp)\n",
    "        if not df.empty:\n",
    "            print(\"Aggregated:\")\n",
    "            display(df.sort_values('width'))\n",
    "            # Progress bar based on #rows vs possible widths (if we can infer)\n",
    "            progress.value = min(100, int(100*len(df)/max(1, len(df))))\n",
    "        else:\n",
    "            print(\"No aggregated data yet.\")\n",
    "refresh_btn.on_click(refresh_view)\n",
    "def auto_loop():\n",
    "    while auto_refresh.value:\n",
    "        refresh_view()\n",
    "        time.sleep(2)\n",
    "widgets.jsdlink((auto_refresh, 'value'), (refresh_btn, 'disabled'))"
   ]
  }
 ],
 "metadata": {
  "kernelspec": {
   "display_name": "dbl1",
   "language": "python",
   "name": "python3"
  },
  "language_info": {
   "codemirror_mode": {
    "name": "ipython",
    "version": 3
   },
   "file_extension": ".py",
   "mimetype": "text/x-python",
   "name": "python",
   "nbconvert_exporter": "python",
   "pygments_lexer": "ipython3",
   "version": "3.11.11"
  }
 },
 "nbformat": 4,
 "nbformat_minor": 5
}
