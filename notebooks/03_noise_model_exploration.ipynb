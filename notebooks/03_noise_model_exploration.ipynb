{
 "cells": [
  {
   "cell_type": "markdown",
   "id": "fa1e855c",
   "metadata": {},
   "source": [
    "# Noise Model Exploration\n",
    "Interactively explore the noise conversions: F→p_dep, T1/T2→decoherence, and T2*→σ for quasi-static noise."
   ]
  },
  {
   "cell_type": "code",
   "execution_count": null,
   "id": "10f6c5ce",
   "metadata": {},
   "outputs": [],
   "source": [
    "# Setup and formulas\n",
    "import sys, numpy as np, math\n",
    "from pathlib import Path\n",
    "root = Path.cwd()\n",
    "src_path = root / \"src\"\n",
    "if str(src_path) not in sys.path:\n",
    "    sys.path.insert(0, str(src_path))\n",
    "from IPython.display import display\n",
    "import ipywidgets as widgets\n",
    "def p_dep_1q(F1):\n",
    "    return 2.0 * (1.0 - F1)\n",
    "def p_dep_2q(F2):\n",
    "    return (4.0/3.0) * (1.0 - F2)\n",
    "def decoherence_probs(tau, T1, T2):\n",
    "    p_amp = 1.0 - math.exp(-tau / T1)\n",
    "    Tphi_inv = (1.0/T2) - (1.0/(2.0*T1))\n",
    "    Tphi = 1.0 / Tphi_inv if Tphi_inv > 0 else float('inf')\n",
    "    p_phi = 1.0 - math.exp(-tau / Tphi) if math.isfinite(Tphi) else 0.0\n",
    "    return p_amp, p_phi\n",
    "def sigma_from_T2_star(T2s):\n",
    "    return math.sqrt(2.0) / T2s"
   ]
  },
  {
   "cell_type": "code",
   "execution_count": null,
   "id": "786844db",
   "metadata": {},
   "outputs": [],
   "source": [
    "# Widgets and interactivity\n",
    "F1 = widgets.FloatSlider(value=0.99926, min=0.98, max=1.0, step=1e-5, description='F1')\n",
    "F2 = widgets.FloatSlider(value=0.99800, min=0.95, max=1.0, step=1e-5, description='F2')\n",
    "T1 = widgets.FloatLogSlider(value=1.0, base=10, min=-2, max=1, step=0.01, description='T1 [s]')\n",
    "T2 = widgets.FloatLogSlider(value=99e-6, base=10, min=-6, max=-3, step=0.01, description='T2 [s]')\n",
    "T2s = widgets.FloatLogSlider(value=20e-6, base=10, min=-6, max=-3, step=0.01, description='T2* [s]')\n",
    "tau1 = widgets.FloatLogSlider(value=60e-9, base=10, min=-9, max=-6, step=0.01, description='t1 [s]')\n",
    "tau2 = widgets.FloatLogSlider(value=40e-9, base=10, min=-9, max=-6, step=0.01, description='t2 [s]')\n",
    "out = widgets.Output()\n",
    "def recompute(_=None):\n",
    "    with out:\n",
    "        out.clear_output()\n",
    "        print(\"p_dep (1q):\", p_dep_1q(F1.value))\n",
    "        print(\"p_dep (2q):\", p_dep_2q(F2.value))\n",
    "        p_amp1, p_phi1 = decoherence_probs(tau1.value, T1.value, T2.value)\n",
    "        p_amp2, p_phi2 = decoherence_probs(tau2.value, T1.value, T2.value)\n",
    "        print(f\"1q gate (tau={tau1.value:.1e}s): p_amp={p_amp1:.3e}, p_phi={p_phi1:.3e}\")\n",
    "        print(f\"2q gate (tau={tau2.value:.1e}s): p_amp={p_amp2:.3e}, p_phi={p_phi2:.3e}\")\n",
    "        print(\"sigma (quasi-static):\", sigma_from_T2_star(T2s.value))\n",
    "for w in [F1,F2,T1,T2,T2s,tau1,tau2]:\n",
    "    w.observe(recompute, names='value')\n",
    "display(widgets.VBox([F1, F2, T1, T2, T2s, tau1, tau2, out]))\n",
    "recompute()"
   ]
  }
 ],
 "metadata": {
  "language_info": {
   "name": "python"
  }
 },
 "nbformat": 4,
 "nbformat_minor": 5
}
