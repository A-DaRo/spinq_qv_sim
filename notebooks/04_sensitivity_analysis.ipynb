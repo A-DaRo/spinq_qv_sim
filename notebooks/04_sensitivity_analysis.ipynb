{
 "cells": [
  {
   "cell_type": "markdown",
   "id": "a1192380",
   "metadata": {},
   "source": [
    "# Sensitivity Analysis: 1D, 2D Sweeps and Ablations\n",
    "Use the `SensitivityRunner` to sweep device parameters and summarize Quantum Volume metrics."
   ]
  },
  {
   "cell_type": "code",
   "execution_count": null,
   "id": "17b317f3",
   "metadata": {},
   "outputs": [],
   "source": [
    "# Setup imports\n",
    "import sys\n",
    "from pathlib import Path\n",
    "import pandas as pd\n",
    "import numpy as np\n",
    "from IPython.display import display\n",
    "root = Path.cwd()\n",
    "src_path = root / \"src\"\n",
    "if str(src_path) not in sys.path:\n",
    "    sys.path.insert(0, str(src_path))\n",
    "from spinq_qv.config.schemas import Config\n",
    "from spinq_qv.experiments.run_qv import run_experiment\n",
    "from spinq_qv.experiments.sensitivity import SensitivityRunner, create_default_param_ranges"
   ]
  },
  {
   "cell_type": "code",
   "execution_count": null,
   "id": "7b747a58",
   "metadata": {},
   "outputs": [],
   "source": [
    "# Create base config and runner\n",
    "baseline_yaml = root / \"examples\" / \"configs\" / \"baseline.yaml\"\n",
    "config = Config.from_yaml(baseline_yaml)\n",
    "config.simulation.widths = [2,3]\n",
    "config.simulation.n_circuits = 5\n",
    "config.simulation.n_shots = 200\n",
    "runner = SensitivityRunner(config, output_dir=root / \"results\" / \"sensitivity_demo\")\n",
    "param_ranges = create_default_param_ranges(config)\n",
    "param_ranges"
   ]
  },
  {
   "cell_type": "code",
   "execution_count": null,
   "id": "5154c15c",
   "metadata": {},
   "outputs": [],
   "source": [
    "# 1D sweep example: vary F2 across 4 values\n",
    "values = param_ranges['F2']\n",
    "df_f2 = runner.run_parameter_sweep(\n",
    "    parameter_path=['device','F2'],\n",
    "    values=values,\n",
    "    qv_runner_func=lambda cfg, **kw: run_experiment(cfg, root / 'results' / 'sensitivity_demo' / 'F2', seed=cfg.simulation.random_seed, parallel=False, n_workers=1, enable_profiling=False, return_aggregated=True),\n",
    ")\n",
    "df_f2.head()"
   ]
  },
  {
   "cell_type": "code",
   "execution_count": null,
   "id": "524fd391",
   "metadata": {},
   "outputs": [],
   "source": [
    "# 2D grid example: F1 vs T2 (downsized for demo)\n",
    "param1 = ['device','F1']; v1 = param_ranges['F1']\n",
    "param2 = ['device','T2']; v2 = param_ranges['T2']\n",
    "df_grid, grid = runner.run_2d_grid(\n",
    "    param1, v1, param2, v2,\n",
    "    qv_runner_func=lambda cfg, **kw: run_experiment(cfg, root / 'results' / 'sensitivity_demo' / 'grid', seed=cfg.simulation.random_seed, parallel=False, n_workers=1, enable_profiling=False, return_aggregated=True),\n",
    ")\n",
    "grid.shape"
   ]
  },
  {
   "cell_type": "code",
   "execution_count": null,
   "id": "356b0a21",
   "metadata": {},
   "outputs": [],
   "source": [
    "# Ablation sweep example\n",
    "df_abl = runner.run_ablation_sweep(\n",
    "    qv_runner_func=lambda cfg, **kw: run_experiment(cfg, root / 'results' / 'sensitivity_demo' / 'ablation', seed=cfg.simulation.random_seed, parallel=False, n_workers=1, enable_profiling=False, return_aggregated=True),\n",
    ")\n",
    "df_abl.head()"
   ]
  }
 ],
 "metadata": {
  "language_info": {
   "name": "python"
  }
 },
 "nbformat": 4,
 "nbformat_minor": 5
}
